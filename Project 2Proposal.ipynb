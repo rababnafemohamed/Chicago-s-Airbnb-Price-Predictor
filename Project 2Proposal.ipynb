{
 "cells": [
  {
   "cell_type": "code",
   "execution_count": 70,
   "metadata": {},
   "outputs": [
    {
     "name": "stdout",
     "output_type": "stream",
     "text": [
      "Seaborn installed and imported!\n"
     ]
    },
    {
     "data": {
      "text/html": [
       "<div>\n",
       "<style scoped>\n",
       "    .dataframe tbody tr th:only-of-type {\n",
       "        vertical-align: middle;\n",
       "    }\n",
       "\n",
       "    .dataframe tbody tr th {\n",
       "        vertical-align: top;\n",
       "    }\n",
       "\n",
       "    .dataframe thead th {\n",
       "        text-align: right;\n",
       "    }\n",
       "</style>\n",
       "<table border=\"1\" class=\"dataframe\">\n",
       "  <thead>\n",
       "    <tr style=\"text-align: right;\">\n",
       "      <th></th>\n",
       "      <th>id</th>\n",
       "      <th>name</th>\n",
       "      <th>host_id</th>\n",
       "      <th>host_name</th>\n",
       "      <th>neighbourhood_group</th>\n",
       "      <th>neighbourhood</th>\n",
       "      <th>latitude</th>\n",
       "      <th>longitude</th>\n",
       "      <th>room_type</th>\n",
       "      <th>price</th>\n",
       "      <th>minimum_nights</th>\n",
       "      <th>number_of_reviews</th>\n",
       "      <th>last_review</th>\n",
       "      <th>reviews_per_month</th>\n",
       "      <th>calculated_host_listings_count</th>\n",
       "      <th>availability_365</th>\n",
       "    </tr>\n",
       "  </thead>\n",
       "  <tbody>\n",
       "    <tr>\n",
       "      <th>0</th>\n",
       "      <td>2384</td>\n",
       "      <td>Hyde Park - Walk to UChicago, 10 min to McCormick</td>\n",
       "      <td>2613</td>\n",
       "      <td>Rebecca</td>\n",
       "      <td>NaN</td>\n",
       "      <td>Hyde Park</td>\n",
       "      <td>41.78790</td>\n",
       "      <td>-87.58780</td>\n",
       "      <td>Private room</td>\n",
       "      <td>70</td>\n",
       "      <td>2</td>\n",
       "      <td>181</td>\n",
       "      <td>2020-10-29</td>\n",
       "      <td>2.50</td>\n",
       "      <td>1</td>\n",
       "      <td>0</td>\n",
       "    </tr>\n",
       "    <tr>\n",
       "      <th>1</th>\n",
       "      <td>4505</td>\n",
       "      <td>394 Great Reviews. 127 y/o House. 40 yds to tr...</td>\n",
       "      <td>5775</td>\n",
       "      <td>Craig &amp; Kathleen</td>\n",
       "      <td>NaN</td>\n",
       "      <td>South Lawndale</td>\n",
       "      <td>41.85495</td>\n",
       "      <td>-87.69696</td>\n",
       "      <td>Entire home/apt</td>\n",
       "      <td>95</td>\n",
       "      <td>2</td>\n",
       "      <td>395</td>\n",
       "      <td>2020-07-14</td>\n",
       "      <td>2.75</td>\n",
       "      <td>1</td>\n",
       "      <td>170</td>\n",
       "    </tr>\n",
       "    <tr>\n",
       "      <th>2</th>\n",
       "      <td>7126</td>\n",
       "      <td>Tiny Studio Apartment 94 Walk Score</td>\n",
       "      <td>17928</td>\n",
       "      <td>Sarah</td>\n",
       "      <td>NaN</td>\n",
       "      <td>West Town</td>\n",
       "      <td>41.90289</td>\n",
       "      <td>-87.68182</td>\n",
       "      <td>Entire home/apt</td>\n",
       "      <td>60</td>\n",
       "      <td>2</td>\n",
       "      <td>387</td>\n",
       "      <td>2020-11-16</td>\n",
       "      <td>2.77</td>\n",
       "      <td>1</td>\n",
       "      <td>0</td>\n",
       "    </tr>\n",
       "    <tr>\n",
       "      <th>3</th>\n",
       "      <td>9811</td>\n",
       "      <td>Barbara's Hideaway - Old Town</td>\n",
       "      <td>33004</td>\n",
       "      <td>At Home Inn</td>\n",
       "      <td>NaN</td>\n",
       "      <td>Lincoln Park</td>\n",
       "      <td>41.91769</td>\n",
       "      <td>-87.63788</td>\n",
       "      <td>Entire home/apt</td>\n",
       "      <td>65</td>\n",
       "      <td>4</td>\n",
       "      <td>53</td>\n",
       "      <td>2020-11-30</td>\n",
       "      <td>0.65</td>\n",
       "      <td>11</td>\n",
       "      <td>276</td>\n",
       "    </tr>\n",
       "    <tr>\n",
       "      <th>4</th>\n",
       "      <td>10610</td>\n",
       "      <td>3 Comforts of Cooperative Living</td>\n",
       "      <td>2140</td>\n",
       "      <td>Lois</td>\n",
       "      <td>NaN</td>\n",
       "      <td>Hyde Park</td>\n",
       "      <td>41.79612</td>\n",
       "      <td>-87.59261</td>\n",
       "      <td>Private room</td>\n",
       "      <td>20</td>\n",
       "      <td>1</td>\n",
       "      <td>45</td>\n",
       "      <td>2020-09-15</td>\n",
       "      <td>0.60</td>\n",
       "      <td>2</td>\n",
       "      <td>0</td>\n",
       "    </tr>\n",
       "  </tbody>\n",
       "</table>\n",
       "</div>"
      ],
      "text/plain": [
       "      id                                               name  host_id  \\\n",
       "0   2384  Hyde Park - Walk to UChicago, 10 min to McCormick     2613   \n",
       "1   4505  394 Great Reviews. 127 y/o House. 40 yds to tr...     5775   \n",
       "2   7126                Tiny Studio Apartment 94 Walk Score    17928   \n",
       "3   9811                      Barbara's Hideaway - Old Town    33004   \n",
       "4  10610                   3 Comforts of Cooperative Living     2140   \n",
       "\n",
       "          host_name  neighbourhood_group   neighbourhood  latitude  longitude  \\\n",
       "0           Rebecca                  NaN       Hyde Park  41.78790  -87.58780   \n",
       "1  Craig & Kathleen                  NaN  South Lawndale  41.85495  -87.69696   \n",
       "2             Sarah                  NaN       West Town  41.90289  -87.68182   \n",
       "3       At Home Inn                  NaN    Lincoln Park  41.91769  -87.63788   \n",
       "4              Lois                  NaN       Hyde Park  41.79612  -87.59261   \n",
       "\n",
       "         room_type  price  minimum_nights  number_of_reviews last_review  \\\n",
       "0     Private room     70               2                181  2020-10-29   \n",
       "1  Entire home/apt     95               2                395  2020-07-14   \n",
       "2  Entire home/apt     60               2                387  2020-11-16   \n",
       "3  Entire home/apt     65               4                 53  2020-11-30   \n",
       "4     Private room     20               1                 45  2020-09-15   \n",
       "\n",
       "   reviews_per_month  calculated_host_listings_count  availability_365  \n",
       "0               2.50                               1                 0  \n",
       "1               2.75                               1               170  \n",
       "2               2.77                               1                 0  \n",
       "3               0.65                              11               276  \n",
       "4               0.60                               2                 0  "
      ]
     },
     "execution_count": 70,
     "metadata": {},
     "output_type": "execute_result"
    }
   ],
   "source": [
    "import numpy as np \n",
    "import pandas as pd\n",
    "import matplotlib as mpl\n",
    "import matplotlib.pyplot as plt\n",
    "import seaborn as sns\n",
    "print('Seaborn installed and imported!')\n",
    "chicago = pd.read_csv('listings.csv')\n",
    "chicago.head()"
   ]
  },
  {
   "cell_type": "code",
   "execution_count": 43,
   "metadata": {},
   "outputs": [
    {
     "name": "stdout",
     "output_type": "stream",
     "text": [
      "(6523, 16)\n"
     ]
    }
   ],
   "source": [
    "print(chicago.shape) #The dataset has 6523 rows and 16 columns"
   ]
  },
  {
   "cell_type": "code",
   "execution_count": 44,
   "metadata": {},
   "outputs": [
    {
     "name": "stdout",
     "output_type": "stream",
     "text": [
      "<class 'pandas.core.frame.DataFrame'>\n",
      "RangeIndex: 6523 entries, 0 to 6522\n",
      "Data columns (total 16 columns):\n",
      " #   Column                          Non-Null Count  Dtype  \n",
      "---  ------                          --------------  -----  \n",
      " 0   id                              6523 non-null   int64  \n",
      " 1   name                            6523 non-null   object \n",
      " 2   host_id                         6523 non-null   int64  \n",
      " 3   host_name                       6523 non-null   object \n",
      " 4   neighbourhood_group             0 non-null      float64\n",
      " 5   neighbourhood                   6523 non-null   object \n",
      " 6   latitude                        6523 non-null   float64\n",
      " 7   longitude                       6523 non-null   float64\n",
      " 8   room_type                       6523 non-null   object \n",
      " 9   price                           6523 non-null   int64  \n",
      " 10  minimum_nights                  6523 non-null   int64  \n",
      " 11  number_of_reviews               6523 non-null   int64  \n",
      " 12  last_review                     5238 non-null   object \n",
      " 13  reviews_per_month               5238 non-null   float64\n",
      " 14  calculated_host_listings_count  6523 non-null   int64  \n",
      " 15  availability_365                6523 non-null   int64  \n",
      "dtypes: float64(4), int64(7), object(5)\n",
      "memory usage: 815.5+ KB\n"
     ]
    }
   ],
   "source": [
    "chicago.info() # From the data information we can see that the data types are integers and Object(string)\n",
    "#We can also observe that there are some missing values"
   ]
  },
  {
   "cell_type": "code",
   "execution_count": 45,
   "metadata": {},
   "outputs": [
    {
     "data": {
      "text/plain": [
       "id                                   0\n",
       "name                                 0\n",
       "host_id                              0\n",
       "host_name                            0\n",
       "neighbourhood_group               6523\n",
       "neighbourhood                        0\n",
       "latitude                             0\n",
       "longitude                            0\n",
       "room_type                            0\n",
       "price                                0\n",
       "minimum_nights                       0\n",
       "number_of_reviews                    0\n",
       "last_review                       1285\n",
       "reviews_per_month                 1285\n",
       "calculated_host_listings_count       0\n",
       "availability_365                     0\n",
       "dtype: int64"
      ]
     },
     "execution_count": 45,
     "metadata": {},
     "output_type": "execute_result"
    }
   ],
   "source": [
    "nulldata=chicago.isnull().sum() \n",
    "nulldata\n"
   ]
  },
  {
   "cell_type": "markdown",
   "metadata": {},
   "source": [
    "We can observe that the dataset has 16 columns and 6523 rows. There is an empty column neighbourhood_group and 1285 missing values from last_review and review_per_month.\n"
   ]
  },
  {
   "cell_type": "code",
   "execution_count": 46,
   "metadata": {},
   "outputs": [
    {
     "data": {
      "text/plain": [
       "0"
      ]
     },
     "execution_count": 46,
     "metadata": {},
     "output_type": "execute_result"
    }
   ],
   "source": [
    "dup=chicago.duplicated().sum() #There are 0 duplicated values\n",
    "dup"
   ]
  },
  {
   "cell_type": "code",
   "execution_count": 47,
   "metadata": {},
   "outputs": [],
   "source": [
    "Chicago=chicago.drop(['id', 'host_id','neighbourhood_group'], axis = 1)"
   ]
  },
  {
   "cell_type": "code",
   "execution_count": 48,
   "metadata": {},
   "outputs": [
    {
     "data": {
      "text/html": [
       "<div>\n",
       "<style scoped>\n",
       "    .dataframe tbody tr th:only-of-type {\n",
       "        vertical-align: middle;\n",
       "    }\n",
       "\n",
       "    .dataframe tbody tr th {\n",
       "        vertical-align: top;\n",
       "    }\n",
       "\n",
       "    .dataframe thead th {\n",
       "        text-align: right;\n",
       "    }\n",
       "</style>\n",
       "<table border=\"1\" class=\"dataframe\">\n",
       "  <thead>\n",
       "    <tr style=\"text-align: right;\">\n",
       "      <th></th>\n",
       "      <th>latitude</th>\n",
       "      <th>longitude</th>\n",
       "      <th>price</th>\n",
       "      <th>minimum_nights</th>\n",
       "      <th>number_of_reviews</th>\n",
       "      <th>reviews_per_month</th>\n",
       "      <th>calculated_host_listings_count</th>\n",
       "      <th>availability_365</th>\n",
       "    </tr>\n",
       "  </thead>\n",
       "  <tbody>\n",
       "    <tr>\n",
       "      <th>count</th>\n",
       "      <td>6523.000000</td>\n",
       "      <td>6523.000000</td>\n",
       "      <td>6523.000000</td>\n",
       "      <td>6523.000000</td>\n",
       "      <td>6523.000000</td>\n",
       "      <td>5238.000000</td>\n",
       "      <td>6523.000000</td>\n",
       "      <td>6523.000000</td>\n",
       "    </tr>\n",
       "    <tr>\n",
       "      <th>mean</th>\n",
       "      <td>41.898720</td>\n",
       "      <td>-87.663398</td>\n",
       "      <td>150.062088</td>\n",
       "      <td>8.231489</td>\n",
       "      <td>41.671623</td>\n",
       "      <td>1.655939</td>\n",
       "      <td>14.447187</td>\n",
       "      <td>160.587460</td>\n",
       "    </tr>\n",
       "    <tr>\n",
       "      <th>std</th>\n",
       "      <td>0.059047</td>\n",
       "      <td>0.042387</td>\n",
       "      <td>371.581453</td>\n",
       "      <td>22.383695</td>\n",
       "      <td>67.256988</td>\n",
       "      <td>1.727131</td>\n",
       "      <td>39.621768</td>\n",
       "      <td>144.319438</td>\n",
       "    </tr>\n",
       "    <tr>\n",
       "      <th>min</th>\n",
       "      <td>41.651560</td>\n",
       "      <td>-87.934340</td>\n",
       "      <td>0.000000</td>\n",
       "      <td>1.000000</td>\n",
       "      <td>0.000000</td>\n",
       "      <td>0.010000</td>\n",
       "      <td>1.000000</td>\n",
       "      <td>0.000000</td>\n",
       "    </tr>\n",
       "    <tr>\n",
       "      <th>25%</th>\n",
       "      <td>41.873480</td>\n",
       "      <td>-87.686660</td>\n",
       "      <td>60.000000</td>\n",
       "      <td>1.000000</td>\n",
       "      <td>1.000000</td>\n",
       "      <td>0.390000</td>\n",
       "      <td>1.000000</td>\n",
       "      <td>0.000000</td>\n",
       "    </tr>\n",
       "    <tr>\n",
       "      <th>50%</th>\n",
       "      <td>41.901430</td>\n",
       "      <td>-87.659590</td>\n",
       "      <td>94.000000</td>\n",
       "      <td>2.000000</td>\n",
       "      <td>13.000000</td>\n",
       "      <td>1.120000</td>\n",
       "      <td>2.000000</td>\n",
       "      <td>123.000000</td>\n",
       "    </tr>\n",
       "    <tr>\n",
       "      <th>75%</th>\n",
       "      <td>41.939765</td>\n",
       "      <td>-87.632985</td>\n",
       "      <td>150.000000</td>\n",
       "      <td>4.000000</td>\n",
       "      <td>53.000000</td>\n",
       "      <td>2.450000</td>\n",
       "      <td>8.000000</td>\n",
       "      <td>333.000000</td>\n",
       "    </tr>\n",
       "    <tr>\n",
       "      <th>max</th>\n",
       "      <td>42.022590</td>\n",
       "      <td>-87.537820</td>\n",
       "      <td>10000.000000</td>\n",
       "      <td>500.000000</td>\n",
       "      <td>655.000000</td>\n",
       "      <td>32.410000</td>\n",
       "      <td>216.000000</td>\n",
       "      <td>365.000000</td>\n",
       "    </tr>\n",
       "  </tbody>\n",
       "</table>\n",
       "</div>"
      ],
      "text/plain": [
       "          latitude    longitude         price  minimum_nights  \\\n",
       "count  6523.000000  6523.000000   6523.000000     6523.000000   \n",
       "mean     41.898720   -87.663398    150.062088        8.231489   \n",
       "std       0.059047     0.042387    371.581453       22.383695   \n",
       "min      41.651560   -87.934340      0.000000        1.000000   \n",
       "25%      41.873480   -87.686660     60.000000        1.000000   \n",
       "50%      41.901430   -87.659590     94.000000        2.000000   \n",
       "75%      41.939765   -87.632985    150.000000        4.000000   \n",
       "max      42.022590   -87.537820  10000.000000      500.000000   \n",
       "\n",
       "       number_of_reviews  reviews_per_month  calculated_host_listings_count  \\\n",
       "count        6523.000000        5238.000000                     6523.000000   \n",
       "mean           41.671623           1.655939                       14.447187   \n",
       "std            67.256988           1.727131                       39.621768   \n",
       "min             0.000000           0.010000                        1.000000   \n",
       "25%             1.000000           0.390000                        1.000000   \n",
       "50%            13.000000           1.120000                        2.000000   \n",
       "75%            53.000000           2.450000                        8.000000   \n",
       "max           655.000000          32.410000                      216.000000   \n",
       "\n",
       "       availability_365  \n",
       "count       6523.000000  \n",
       "mean         160.587460  \n",
       "std          144.319438  \n",
       "min            0.000000  \n",
       "25%            0.000000  \n",
       "50%          123.000000  \n",
       "75%          333.000000  \n",
       "max          365.000000  "
      ]
     },
     "execution_count": 48,
     "metadata": {},
     "output_type": "execute_result"
    }
   ],
   "source": [
    "Chicago.describe() #Statistics of numerical columns."
   ]
  },
  {
   "cell_type": "code",
   "execution_count": 49,
   "metadata": {},
   "outputs": [
    {
     "data": {
      "text/html": [
       "<div>\n",
       "<style scoped>\n",
       "    .dataframe tbody tr th:only-of-type {\n",
       "        vertical-align: middle;\n",
       "    }\n",
       "\n",
       "    .dataframe tbody tr th {\n",
       "        vertical-align: top;\n",
       "    }\n",
       "\n",
       "    .dataframe thead th {\n",
       "        text-align: right;\n",
       "    }\n",
       "</style>\n",
       "<table border=\"1\" class=\"dataframe\">\n",
       "  <thead>\n",
       "    <tr style=\"text-align: right;\">\n",
       "      <th></th>\n",
       "      <th>name</th>\n",
       "      <th>host_name</th>\n",
       "      <th>neighbourhood</th>\n",
       "      <th>room_type</th>\n",
       "      <th>last_review</th>\n",
       "    </tr>\n",
       "  </thead>\n",
       "  <tbody>\n",
       "    <tr>\n",
       "      <th>count</th>\n",
       "      <td>6523</td>\n",
       "      <td>6523</td>\n",
       "      <td>6523</td>\n",
       "      <td>6523</td>\n",
       "      <td>5238</td>\n",
       "    </tr>\n",
       "    <tr>\n",
       "      <th>unique</th>\n",
       "      <td>6351</td>\n",
       "      <td>1902</td>\n",
       "      <td>77</td>\n",
       "      <td>4</td>\n",
       "      <td>820</td>\n",
       "    </tr>\n",
       "    <tr>\n",
       "      <th>top</th>\n",
       "      <td>Live + Work + Stay + Easy | 1BR in Chicago</td>\n",
       "      <td>Blueground</td>\n",
       "      <td>Near North Side</td>\n",
       "      <td>Entire home/apt</td>\n",
       "      <td>2020-11-29</td>\n",
       "    </tr>\n",
       "    <tr>\n",
       "      <th>freq</th>\n",
       "      <td>18</td>\n",
       "      <td>216</td>\n",
       "      <td>748</td>\n",
       "      <td>4510</td>\n",
       "      <td>159</td>\n",
       "    </tr>\n",
       "  </tbody>\n",
       "</table>\n",
       "</div>"
      ],
      "text/plain": [
       "                                              name   host_name  \\\n",
       "count                                         6523        6523   \n",
       "unique                                        6351        1902   \n",
       "top     Live + Work + Stay + Easy | 1BR in Chicago  Blueground   \n",
       "freq                                            18         216   \n",
       "\n",
       "          neighbourhood        room_type last_review  \n",
       "count              6523             6523        5238  \n",
       "unique               77                4         820  \n",
       "top     Near North Side  Entire home/apt  2020-11-29  \n",
       "freq                748             4510         159  "
      ]
     },
     "execution_count": 49,
     "metadata": {},
     "output_type": "execute_result"
    }
   ],
   "source": [
    "# Summary of the categorical columns\n",
    "Chicago.select_dtypes(include=['object']).describe() "
   ]
  },
  {
   "cell_type": "markdown",
   "metadata": {},
   "source": [
    "The data is not pre-processed. It has some missing values and five categorical attributes. We would need to do some processing as one-hot encoded, labeling and data cleaning."
   ]
  },
  {
   "cell_type": "code",
   "execution_count": 50,
   "metadata": {},
   "outputs": [
    {
     "name": "stdout",
     "output_type": "stream",
     "text": [
      "Near North Side    748\n",
      "West Town          730\n",
      "Lake View          581\n",
      "Logan Square       382\n",
      "Loop               344\n",
      "                  ... \n",
      "South Deering        2\n",
      "Avalon Park          2\n",
      "Riverdale            2\n",
      "West Pullman         1\n",
      "East Side            1\n",
      "Name: neighbourhood, Length: 77, dtype: int64\n"
     ]
    }
   ],
   "source": [
    "drive_wheels_count=Chicago[\"neighbourhood\"].value_counts()\n",
    "print(drive_wheels_count)"
   ]
  },
  {
   "cell_type": "code",
   "execution_count": 51,
   "metadata": {},
   "outputs": [
    {
     "data": {
      "text/plain": [
       "<matplotlib.axes._subplots.AxesSubplot at 0x7efcb9c40e90>"
      ]
     },
     "execution_count": 51,
     "metadata": {},
     "output_type": "execute_result"
    },
    {
     "data": {
      "image/png": "[encoded data removed]",
      "text/plain": [
       "<Figure size 1440x720 with 1 Axes>"
      ]
     },
     "metadata": {},
     "output_type": "display_data"
    }
   ],
   "source": [
    "plt.figure(figsize=(20,10))#y is none #piechart \n",
    "Chicago.groupby('room_type').size().plot(kind='pie', autopct='%.2f')\n"
   ]
  },
  {
   "cell_type": "markdown",
   "metadata": {},
   "source": [
    "The pie Chart in Figure 4 shows percentage of each room type in the data set. And as observed we can see that 69.14 % Entire home,  1.44% Shared room, 1.09 % Hotel room and 28.33 % Private room.\n"
   ]
  },
  {
   "cell_type": "code",
   "execution_count": 68,
   "metadata": {},
   "outputs": [
    {
     "name": "stdout",
     "output_type": "stream",
     "text": [
      "Entire home/apt    4510\n",
      "Private room       1848\n",
      "Shared room          94\n",
      "Hotel room           71\n",
      "Name: room_type, dtype: int64\n"
     ]
    }
   ],
   "source": [
    "Chicago.describe()\n",
    "#values_counts for categorical attributes\n",
    "drive_wheels_count=Chicago[\"room_type\"].value_counts()\n",
    "print(drive_wheels_count)"
   ]
  },
  {
   "cell_type": "markdown",
   "metadata": {},
   "source": [
    "We can see that the count of room type is the following : \n",
    "Entire home/apt    4510\n",
    "Private room       1848\n",
    "Shared room          94\n",
    "Hotel room           71"
   ]
  },
  {
   "cell_type": "code",
   "execution_count": 102,
   "metadata": {},
   "outputs": [
    {
     "data": {
      "text/plain": [
       "<matplotlib.axes._subplots.AxesSubplot at 0x7efca02dfed0>"
      ]
     },
     "execution_count": 102,
     "metadata": {},
     "output_type": "execute_result"
    },
    {
     "data": {
      "image/png": "[encoded data removed]",
      "text/plain": [
       "<Figure size 432x288 with 1 Axes>"
      ]
     },
     "metadata": {
      "needs_background": "light"
     },
     "output_type": "display_data"
    }
   ],
   "source": [
    "sns.boxplot(x=chicago['number_of_reviews'])\n"
   ]
  },
  {
   "cell_type": "markdown",
   "metadata": {},
   "source": [
    "The box plot is a visualization of number_of_reviews values, and the data is right-skewed with some outliers. "
   ]
  }
 ],
 "metadata": {
  "kernelspec": {
   "display_name": "Python 3",
   "language": "python",
   "name": "python3"
  },
  "language_info": {
   "codemirror_mode": {
    "name": "ipython",
    "version": 3
   },
   "file_extension": ".py",
   "mimetype": "text/x-python",
   "name": "python",
   "nbconvert_exporter": "python",
   "pygments_lexer": "ipython3",
   "version": "3.7.6"
  }
 },
 "nbformat": 4,
 "nbformat_minor": 4
}
